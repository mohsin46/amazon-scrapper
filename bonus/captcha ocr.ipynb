{
 "cells": [
  {
   "cell_type": "code",
   "execution_count": 1,
   "id": "60a9e9d6",
   "metadata": {},
   "outputs": [],
   "source": [
    "from amazoncaptcha import AmazonCaptcha\n",
    "from selenium import webdriver"
   ]
  },
  {
   "cell_type": "code",
   "execution_count": 2,
   "id": "b69ad822",
   "metadata": {},
   "outputs": [],
   "source": [
    "DRIVER_PATH = 'C:/Users/OMEN/Downloads/chromedriver.exe'\n",
    "driver = webdriver.Chrome(executable_path=DRIVER_PATH) "
   ]
  },
  {
   "cell_type": "code",
   "execution_count": 3,
   "id": "d9edc4f3",
   "metadata": {},
   "outputs": [],
   "source": [
    "driver.get(\"https://www.amazon.com/errors/validateCaptcha\")"
   ]
  },
  {
   "cell_type": "code",
   "execution_count": 4,
   "id": "5991f98e",
   "metadata": {},
   "outputs": [],
   "source": [
    "image_link = driver.find_element_by_xpath(\"//img\").get_attribute(\"src\")"
   ]
  },
  {
   "cell_type": "code",
   "execution_count": 5,
   "id": "d3b1c2cb",
   "metadata": {},
   "outputs": [],
   "source": [
    "captcha = AmazonCaptcha.fromlink(image_link)\n",
    "solution = captcha.solve()"
   ]
  },
  {
   "cell_type": "code",
   "execution_count": 6,
   "id": "262c1837",
   "metadata": {},
   "outputs": [],
   "source": [
    "driver.find_element_by_id(\"captchacharacters\").send_keys(solution)"
   ]
  },
  {
   "cell_type": "code",
   "execution_count": 7,
   "id": "ced369f6",
   "metadata": {},
   "outputs": [],
   "source": [
    "driver.find_element_by_xpath(\"//button[@type='submit']\").click()"
   ]
  },
  {
   "cell_type": "code",
   "execution_count": null,
   "id": "1e8720f8",
   "metadata": {},
   "outputs": [],
   "source": []
  }
 ],
 "metadata": {
  "kernelspec": {
   "display_name": "Python 3 (ipykernel)",
   "language": "python",
   "name": "python3"
  },
  "language_info": {
   "codemirror_mode": {
    "name": "ipython",
    "version": 3
   },
   "file_extension": ".py",
   "mimetype": "text/x-python",
   "name": "python",
   "nbconvert_exporter": "python",
   "pygments_lexer": "ipython3",
   "version": "3.7.9"
  }
 },
 "nbformat": 4,
 "nbformat_minor": 5
}
