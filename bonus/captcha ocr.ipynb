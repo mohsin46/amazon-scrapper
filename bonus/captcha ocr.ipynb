{
 "cells": [
  {
   "cell_type": "code",
   "execution_count": 5,
   "id": "b1ab46b0",
   "metadata": {},
   "outputs": [],
   "source": [
    "from amazoncaptcha import AmazonCaptcha\n",
    "captcha = AmazonCaptcha('Downloads/Captcha_shgoxiqzvy.jpg')\n",
    "solution = captcha.solve()"
   ]
  },
  {
   "cell_type": "code",
   "execution_count": 6,
   "id": "8a1172cf",
   "metadata": {},
   "outputs": [
    {
     "data": {
      "text/plain": [
       "'PAMUTN'"
      ]
     },
     "execution_count": 6,
     "metadata": {},
     "output_type": "execute_result"
    }
   ],
   "source": [
    "solution"
   ]
  },
  {
   "cell_type": "code",
   "execution_count": null,
   "id": "30135573",
   "metadata": {},
   "outputs": [],
   "source": []
  }
 ],
 "metadata": {
  "kernelspec": {
   "display_name": "Python 3 (ipykernel)",
   "language": "python",
   "name": "python3"
  },
  "language_info": {
   "codemirror_mode": {
    "name": "ipython",
    "version": 3
   },
   "file_extension": ".py",
   "mimetype": "text/x-python",
   "name": "python",
   "nbconvert_exporter": "python",
   "pygments_lexer": "ipython3",
   "version": "3.7.9"
  }
 },
 "nbformat": 4,
 "nbformat_minor": 5
}
