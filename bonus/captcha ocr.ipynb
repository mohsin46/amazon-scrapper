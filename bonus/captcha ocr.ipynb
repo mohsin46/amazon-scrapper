{
 "cells": [
  {
   "cell_type": "code",
   "execution_count": 1,
   "id": "ac9531c2",
   "metadata": {},
   "outputs": [],
   "source": [
    "from amazoncaptcha import AmazonCaptcha\n",
    "from selenium import webdriver"
   ]
  },
  {
   "cell_type": "code",
   "execution_count": 2,
   "id": "ef19f536",
   "metadata": {},
   "outputs": [],
   "source": [
    "DRIVER_PATH = 'C:/Users/OMEN/Downloads/chromedriver.exe'\n",
    "driver = webdriver.Chrome(executable_path=DRIVER_PATH) "
   ]
  },
  {
   "cell_type": "code",
   "execution_count": 16,
   "id": "41bfd38a",
   "metadata": {},
   "outputs": [],
   "source": [
    "driver.get(\"https://www.amazon.com/errors/validateCaptcha\")"
   ]
  },
  {
   "cell_type": "code",
   "execution_count": 17,
   "id": "abe802e3",
   "metadata": {},
   "outputs": [],
   "source": [
    "image_link = driver.find_element_by_xpath(\"//img\").get_attribute(\"src\")"
   ]
  },
  {
   "cell_type": "code",
   "execution_count": 18,
   "id": "a648a14b",
   "metadata": {},
   "outputs": [],
   "source": [
    "captcha = AmazonCaptcha.fromlink(image_link)\n",
    "solution = captcha.solve()"
   ]
  },
  {
   "cell_type": "code",
   "execution_count": 19,
   "id": "7d27b42a",
   "metadata": {},
   "outputs": [],
   "source": [
    "driver.find_element_by_id(\"captchacharacters\").send_keys(solution)"
   ]
  },
  {
   "cell_type": "code",
   "execution_count": 20,
   "id": "ff22f8c4",
   "metadata": {},
   "outputs": [],
   "source": [
    "driver.find_element_by_xpath(\"//button[@type='submit']\").click()"
   ]
  },
  {
   "cell_type": "code",
   "execution_count": null,
   "id": "9b42d8bf",
   "metadata": {},
   "outputs": [],
   "source": []
  }
 ],
 "metadata": {
  "kernelspec": {
   "display_name": "Python 3 (ipykernel)",
   "language": "python",
   "name": "python3"
  },
  "language_info": {
   "codemirror_mode": {
    "name": "ipython",
    "version": 3
   },
   "file_extension": ".py",
   "mimetype": "text/x-python",
   "name": "python",
   "nbconvert_exporter": "python",
   "pygments_lexer": "ipython3",
   "version": "3.7.9"
  }
 },
 "nbformat": 4,
 "nbformat_minor": 5
}
